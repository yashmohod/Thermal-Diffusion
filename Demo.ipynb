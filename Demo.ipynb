{
 "cells": [
  {
   "cell_type": "code",
   "execution_count": 10,
   "metadata": {},
   "outputs": [],
   "source": [
    "# imports numpy, matplotlib\n",
    "import numpy as np \n",
    "import matplotlib.pyplot as plt\n",
    "import ThermalDiffusion as TS\n",
    "from scipy.integrate import solve_ivp"
   ]
  },
  {
   "cell_type": "code",
   "execution_count": 11,
   "metadata": {},
   "outputs": [],
   "source": [
    "# variable setup\n",
    "\n",
    "# room temperature\n",
    "T_air = 23 #degree C\n",
    "\n",
    "# duration of the graph staring at t0 = 0  to tf = t0 + dur\n",
    "dur = 300# s\n",
    "\n",
    "\n",
    "\"\"\"\n",
    "Experiment Constants\n",
    "\"\"\"\n",
    "\n",
    "# heat input\n",
    "Q = 0.5 #J\n",
    "\n",
    "# thermal conductivity \n",
    "kappa = 4.01 # W cm^-1 K^-1\n",
    "k_al = 2.37 # W cm^-1 K^-1\n",
    "# volumetric heat capacity \n",
    "s =3.45 # J m^-2 K^-1\n",
    "s_al = 2.422# J m^-2 K^-1\n",
    "# delta x\n",
    "dx = 0.05# cm\n",
    "# delta t\n",
    "dt = 0.001 # sec\n",
    "# heater length\n",
    "heaterLen = 1\n",
    "# heat pulse duration\n",
    "att = 0.05 #sec\n",
    "# energy input set using raw data later\n",
    " # J\n",
    "\n",
    "\"\"\"\n",
    "ROD Conditions\n",
    "\"\"\"\n",
    "# length of rod\n",
    "rodLen = 20 # cm\n",
    "# radius of the cross section area\n",
    "a =0.5*(1/8)*2.54  # cm\n",
    "# cross section area\n",
    "A = np.pi * a**2 # cm^2\n",
    "\n",
    "# inital temperature of rod\n",
    "ic =T_air\n",
    "\n",
    "# boundary conditions\n",
    "bcT = np.zeros((2,1))\n",
    "bcS = np.zeros((2,1))\n",
    "\n",
    "# Left end boundary conditions\n",
    "# initial temperature \n",
    "bcT[0] = ic\n",
    "# diffusion state\n",
    "# 1) heat sunk\n",
    "# 2) float\n",
    "bcS[0] = 2\n",
    "\n",
    "# Right end boundary conditions\n",
    "# initial temperature \n",
    "bcT[1] = ic\n",
    "# diffusion state\n",
    "# 1) heat sunk\n",
    "# 2) float\n",
    "bcS[1] = 2\n",
    "\n",
    "# heatloss \n",
    "heatlossBool = True\n",
    "\n",
    "# position of heater \n",
    "# (this is the center of the heater so make sure atX > heater length to avoid array indexing error)\n",
    "atX = rodLen/2 \n",
    "\n",
    "# convectiveHeatTransfer factor\n",
    "h =0.0003\n"
   ]
  },
  {
   "cell_type": "code",
   "execution_count": 12,
   "metadata": {},
   "outputs": [],
   "source": [
    "# position of the rod where you want to see the temp vs time graph\n",
    "d = 2 # cm"
   ]
  },
  {
   "cell_type": "code",
   "execution_count": 13,
   "metadata": {},
   "outputs": [
    {
     "name": "stdout",
     "output_type": "stream",
     "text": [
      "401 20\n",
      "190 211 21\n"
     ]
    },
    {
     "name": "stderr",
     "output_type": "stream",
     "text": [
      "/Users/mohod/Developer/Thermal-Diffusion/ThermalDiffusion.py:110: RuntimeWarning: overflow encountered in scalar subtract\n",
      "  T[-1,j] = T[-1,j-1] + (dt*beta/2)*(8*T[-2,j-1] -T[-3,j-1]  - 7*T[-1,j-1]  )\n",
      "/Users/mohod/Developer/Thermal-Diffusion/ThermalDiffusion.py:121: RuntimeWarning: overflow encountered in scalar subtract\n",
      "  T[0,j] = T[0,j-1]+(dt*beta/2)*(8*T[1,j-1]-T[2,j-1]  - 7*T[0,j-1])\n",
      "/Users/mohod/Developer/Thermal-Diffusion/ThermalDiffusion.py:110: RuntimeWarning: invalid value encountered in scalar add\n",
      "  T[-1,j] = T[-1,j-1] + (dt*beta/2)*(8*T[-2,j-1] -T[-3,j-1]  - 7*T[-1,j-1]  )\n",
      "/Users/mohod/Developer/Thermal-Diffusion/ThermalDiffusion.py:121: RuntimeWarning: invalid value encountered in scalar add\n",
      "  T[0,j] = T[0,j-1]+(dt*beta/2)*(8*T[1,j-1]-T[2,j-1]  - 7*T[0,j-1])\n"
     ]
    }
   ],
   "source": [
    "# Euler Method\n",
    "y,y_t= TS.EulerMethod(dur,rodLen,dt,dx,kappa,att,atX,heaterLen,bcT,ic,h,heatlossBool,Q,a,s,bcS) "
   ]
  },
  {
   "cell_type": "code",
   "execution_count": 14,
   "metadata": {},
   "outputs": [
    {
     "data": {
      "text/plain": [
       "10"
      ]
     },
     "execution_count": 14,
     "metadata": {},
     "output_type": "execute_result"
    }
   ],
   "source": [
    "405 - 395"
   ]
  },
  {
   "cell_type": "code",
   "execution_count": 15,
   "metadata": {},
   "outputs": [
    {
     "data": {
      "text/plain": [
       "400"
      ]
     },
     "execution_count": 15,
     "metadata": {},
     "output_type": "execute_result"
    }
   ],
   "source": [
    "int(800/2) "
   ]
  },
  {
   "cell_type": "code",
   "execution_count": 16,
   "metadata": {},
   "outputs": [
    {
     "name": "stdout",
     "output_type": "stream",
     "text": [
      "190 211 21\n",
      "0.08313169578943323 21 0.5\n",
      "34.86697458908461 0.05\n"
     ]
    }
   ],
   "source": [
    "# # Solve IVP Method\n",
    "solve_ivp_solution = TS.SolveIVP_Method(dur,rodLen,dt,dx,kappa,att,atX,heaterLen,bcT,ic,h,heatlossBool,Q,a,s,bcS)"
   ]
  },
  {
   "cell_type": "code",
   "execution_count": 17,
   "metadata": {},
   "outputs": [],
   "source": [
    "# Analytical Solution\n",
    "ana,ana_t = TS.anaMet(Q,A,kappa,s,dur,d,h,a,heatlossBool,0,dt) "
   ]
  },
  {
   "cell_type": "code",
   "execution_count": 18,
   "metadata": {},
   "outputs": [
    {
     "data": {
      "image/png": "[encoded data removed]",
      "text/plain": [
       "<Figure size 800x500 with 1 Axes>"
      ]
     },
     "metadata": {},
     "output_type": "display_data"
    }
   ],
   "source": [
    "# Plot Scale\n",
    "scale = 1\n",
    "\n",
    "plt.figure(figsize=(8*scale, 5*scale))\n",
    "ana,ana_t = TS.anaMet(Q,A,kappa,s,dur,d,h,a,heatlossBool,0,dt) \n",
    "plt.plot(ana_t,ana,label = 'Analytical Solution')\n",
    "plt.plot(y_t,y[int((atX/dx)+(d)/dx),:],label = 'Euler Method r')\n",
    "plt.plot(y_t,y[int((atX/dx)-(d)/dx),:],label = 'Euler Method l')\n",
    "plt.plot(solve_ivp_solution.t,solve_ivp_solution.y[int((atX/dx)-(d)/dx)],label = 'Solve IVP')\n",
    "\n",
    "\n",
    "plt.legend(loc='center left', bbox_to_anchor=(1, 0.5))\n",
    "plt.xlabel(\"Time (s)\")\n",
    "plt.ylabel(\"ΔTemperature (°K)\")\n",
    "plt.title(\"Temperature vs Time at x = \"+str(d)+\" cm  Q = \"+str(Q)+\" J\")\n",
    "plt.grid()\n",
    "# plt.xlim(-1,5)\n",
    "# plt.ylim(0.12)\n",
    "# plt.ylim(0,0.12)"
   ]
  }
 ],
 "metadata": {
  "kernelspec": {
   "display_name": "otsim",
   "language": "python",
   "name": "python3"
  },
  "language_info": {
   "codemirror_mode": {
    "name": "ipython",
    "version": 3
   },
   "file_extension": ".py",
   "mimetype": "text/x-python",
   "name": "python",
   "nbconvert_exporter": "python",
   "pygments_lexer": "ipython3",
   "version": "3.12.2"
  }
 },
 "nbformat": 4,
 "nbformat_minor": 2
}
